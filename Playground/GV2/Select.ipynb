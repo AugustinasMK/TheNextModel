{
 "cells": [
  {
   "cell_type": "code",
   "execution_count": 1,
   "metadata": {
    "collapsed": true,
    "ExecuteTime": {
     "start_time": "2023-04-08T16:29:04.369150Z",
     "end_time": "2023-04-08T16:29:04.486510Z"
    }
   },
   "outputs": [],
   "source": [
    "import csv\n",
    "from tqdm.auto import tqdm\n",
    "import random"
   ]
  },
  {
   "cell_type": "code",
   "execution_count": 2,
   "outputs": [
    {
     "data": {
      "text/plain": "Reading:   0%|          | 0/81314 [00:00<?, ?it/s]",
      "application/vnd.jupyter.widget-view+json": {
       "version_major": 2,
       "version_minor": 0,
       "model_id": "c8a1c6afff5e43c586b3f4786bc363ce"
      }
     },
     "metadata": {},
     "output_type": "display_data"
    }
   ],
   "source": [
    "classes = {}\n",
    "index = 0\n",
    "with open(\"./train_clean.csv\", 'r') as file:\n",
    "    csvreader = csv.reader(file)\n",
    "    for row in tqdm(csvreader, desc=\"Reading\", total=81314):\n",
    "        index += 1\n",
    "        if index == 1:\n",
    "            continue\n",
    "        classes[row[0]] = row[1].split(\" \")"
   ],
   "metadata": {
    "collapsed": false,
    "ExecuteTime": {
     "start_time": "2023-04-08T16:29:41.690899Z",
     "end_time": "2023-04-08T16:29:42.949622Z"
    }
   }
  },
  {
   "cell_type": "code",
   "execution_count": 3,
   "outputs": [
    {
     "data": {
      "text/plain": "Filtering:   0%|          | 0/81313 [00:00<?, ?it/s]",
      "application/vnd.jupyter.widget-view+json": {
       "version_major": 2,
       "version_minor": 0,
       "model_id": "fee7fd76b9e7483b882d7e6b747880fb"
      }
     },
     "metadata": {},
     "output_type": "display_data"
    }
   ],
   "source": [
    "classes_above_20 = {}\n",
    "for key, value in tqdm(classes.items(), desc=\"Filtering\"):\n",
    "    if len(value) > 20:\n",
    "        classes_above_20[key] = value"
   ],
   "metadata": {
    "collapsed": false,
    "ExecuteTime": {
     "start_time": "2023-04-08T16:29:43.946116Z",
     "end_time": "2023-04-08T16:29:44.108894Z"
    }
   }
  },
  {
   "cell_type": "code",
   "execution_count": 4,
   "outputs": [
    {
     "name": "stdout",
     "output_type": "stream",
     "text": [
      "19693\n"
     ]
    }
   ],
   "source": [
    "classes_above_20_list = list(classes_above_20.keys())\n",
    "classes_above_20_list.sort()\n",
    "print(len(classes_above_20_list))"
   ],
   "metadata": {
    "collapsed": false,
    "ExecuteTime": {
     "start_time": "2023-04-08T16:29:48.630346Z",
     "end_time": "2023-04-08T16:29:48.642571Z"
    }
   }
  },
  {
   "cell_type": "code",
   "execution_count": 5,
   "outputs": [
    {
     "name": "stdout",
     "output_type": "stream",
     "text": [
      "5000\n"
     ]
    }
   ],
   "source": [
    "selected_classes_list = random.sample(classes_above_20_list, 5000)\n",
    "print(len(selected_classes_list))"
   ],
   "metadata": {
    "collapsed": false,
    "ExecuteTime": {
     "start_time": "2023-04-08T16:29:49.932588Z",
     "end_time": "2023-04-08T16:29:49.978303Z"
    }
   }
  },
  {
   "cell_type": "code",
   "execution_count": 6,
   "outputs": [],
   "source": [
    "images = []\n",
    "for key in selected_classes_list:\n",
    "    possible_images = classes[key]\n",
    "    if len(possible_images) > 50:\n",
    "        images += random.sample(possible_images, 20)\n",
    "    else:\n",
    "        images += possible_images"
   ],
   "metadata": {
    "collapsed": false,
    "ExecuteTime": {
     "start_time": "2023-04-08T16:29:53.032883Z",
     "end_time": "2023-04-08T16:29:53.078766Z"
    }
   }
  },
  {
   "cell_type": "code",
   "execution_count": 7,
   "outputs": [
    {
     "name": "stdout",
     "output_type": "stream",
     "text": [
      "138520\n"
     ]
    }
   ],
   "source": [
    "print(len(images))"
   ],
   "metadata": {
    "collapsed": false,
    "ExecuteTime": {
     "start_time": "2023-04-08T16:29:55.367034Z",
     "end_time": "2023-04-08T16:29:55.382885Z"
    }
   }
  },
  {
   "cell_type": "code",
   "execution_count": 8,
   "outputs": [
    {
     "data": {
      "text/plain": "Filtering:   0%|          | 0/81313 [00:00<?, ?it/s]",
      "application/vnd.jupyter.widget-view+json": {
       "version_major": 2,
       "version_minor": 0,
       "model_id": "85a398af090348efbca057ebb6931d3d"
      }
     },
     "metadata": {},
     "output_type": "display_data"
    }
   ],
   "source": [
    "all_images_to_classes = {}\n",
    "for key, value in tqdm(classes.items(), desc=\"Filtering\"):\n",
    "    for image in value:\n",
    "        all_images_to_classes[image] = key"
   ],
   "metadata": {
    "collapsed": false,
    "ExecuteTime": {
     "start_time": "2023-04-08T16:30:07.758471Z",
     "end_time": "2023-04-08T16:30:09.217680Z"
    }
   }
  },
  {
   "cell_type": "code",
   "execution_count": 9,
   "outputs": [
    {
     "name": "stdout",
     "output_type": "stream",
     "text": [
      "['00001ae42cd00356', '00001b2ba2c69ac5', '0000341f232b1354', '0000c8cb9f609e7a', '0000fc82f5f2440a', '00018c9815dc97d5', '0002272575ca2b45', '00024ea6140f4221', '00028b16d01622f4', '0002ebb7f1b0c8f3']\n"
     ]
    }
   ],
   "source": [
    "images.sort()\n",
    "print(images[:10])"
   ],
   "metadata": {
    "collapsed": false,
    "ExecuteTime": {
     "start_time": "2023-04-08T16:30:12.839452Z",
     "end_time": "2023-04-08T16:30:12.844704Z"
    }
   }
  },
  {
   "cell_type": "code",
   "execution_count": 10,
   "outputs": [],
   "source": [
    "images_to_classes = {}\n",
    "for image in images:\n",
    "    images_to_classes[image] = all_images_to_classes[image]"
   ],
   "metadata": {
    "collapsed": false,
    "ExecuteTime": {
     "start_time": "2023-04-08T16:30:16.582101Z",
     "end_time": "2023-04-08T16:30:16.781754Z"
    }
   }
  },
  {
   "cell_type": "code",
   "execution_count": 11,
   "outputs": [
    {
     "data": {
      "text/plain": "Writing:   0%|          | 0/138520 [00:00<?, ?it/s]",
      "application/vnd.jupyter.widget-view+json": {
       "version_major": 2,
       "version_minor": 0,
       "model_id": "4cd425b52077431196e1baea2154e8d6"
      }
     },
     "metadata": {},
     "output_type": "display_data"
    }
   ],
   "source": [
    "with open(\"./train_clean_5000.csv\", 'w') as file:\n",
    "    csvwriter = csv.writer(file)\n",
    "    csvwriter.writerow([\"image\", \"landmark_id\"])\n",
    "    for key, value in tqdm(images_to_classes.items(), desc=\"Writing\"):\n",
    "        csvwriter.writerow([key, value])"
   ],
   "metadata": {
    "collapsed": false,
    "ExecuteTime": {
     "start_time": "2023-04-08T16:30:37.482204Z",
     "end_time": "2023-04-08T16:30:38.033252Z"
    }
   }
  },
  {
   "cell_type": "code",
   "execution_count": null,
   "outputs": [],
   "source": [],
   "metadata": {
    "collapsed": false
   }
  }
 ],
 "metadata": {
  "kernelspec": {
   "display_name": "Python 3",
   "language": "python",
   "name": "python3"
  },
  "language_info": {
   "codemirror_mode": {
    "name": "ipython",
    "version": 2
   },
   "file_extension": ".py",
   "mimetype": "text/x-python",
   "name": "python",
   "nbconvert_exporter": "python",
   "pygments_lexer": "ipython2",
   "version": "2.7.6"
  }
 },
 "nbformat": 4,
 "nbformat_minor": 0
}
