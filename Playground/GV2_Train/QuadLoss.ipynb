{
 "cells": [
  {
   "cell_type": "code",
   "execution_count": 18,
   "metadata": {
    "collapsed": true,
    "ExecuteTime": {
     "start_time": "2023-04-12T23:58:56.166160Z",
     "end_time": "2023-04-12T23:58:56.212034Z"
    }
   },
   "outputs": [],
   "source": [
    "import torch\n",
    "from utils.QuadrupletMarginLoss import QuadrupletMarginLoss"
   ]
  },
  {
   "cell_type": "code",
   "execution_count": 19,
   "outputs": [],
   "source": [
    "anchor = torch.tensor([1.0, 2.0, 3.0, 4.0], requires_grad=True)\n",
    "strong_positive = torch.tensor([1.0, 2.0, 3.0, 4.0], requires_grad=True)\n",
    "weak_positive = torch.tensor([1.0, 2.0, 3.5, 5], requires_grad=True)\n",
    "negative = torch.tensor([1.0, 2.0, 5.0, 6.0], requires_grad=True)"
   ],
   "metadata": {
    "collapsed": false,
    "ExecuteTime": {
     "start_time": "2023-04-12T23:58:56.705643Z",
     "end_time": "2023-04-12T23:58:56.710951Z"
    }
   }
  },
  {
   "cell_type": "code",
   "execution_count": 20,
   "outputs": [],
   "source": [
    "loss = QuadrupletMarginLoss()"
   ],
   "metadata": {
    "collapsed": false,
    "ExecuteTime": {
     "start_time": "2023-04-12T23:58:57.257647Z",
     "end_time": "2023-04-12T23:58:57.261040Z"
    }
   }
  },
  {
   "cell_type": "code",
   "execution_count": 21,
   "outputs": [
    {
     "data": {
      "text/plain": "tensor(0., grad_fn=<AddBackward0>)"
     },
     "execution_count": 21,
     "metadata": {},
     "output_type": "execute_result"
    }
   ],
   "source": [
    "loss(anchor, strong_positive, weak_positive, negative)"
   ],
   "metadata": {
    "collapsed": false,
    "ExecuteTime": {
     "start_time": "2023-04-12T23:58:57.766886Z",
     "end_time": "2023-04-12T23:58:57.771222Z"
    }
   }
  },
  {
   "cell_type": "code",
   "execution_count": null,
   "outputs": [],
   "source": [],
   "metadata": {
    "collapsed": false
   }
  }
 ],
 "metadata": {
  "kernelspec": {
   "display_name": "Python 3",
   "language": "python",
   "name": "python3"
  },
  "language_info": {
   "codemirror_mode": {
    "name": "ipython",
    "version": 2
   },
   "file_extension": ".py",
   "mimetype": "text/x-python",
   "name": "python",
   "nbconvert_exporter": "python",
   "pygments_lexer": "ipython2",
   "version": "2.7.6"
  }
 },
 "nbformat": 4,
 "nbformat_minor": 0
}
