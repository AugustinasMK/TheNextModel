{
 "cells": [
  {
   "cell_type": "code",
   "execution_count": 1,
   "metadata": {
    "collapsed": true,
    "ExecuteTime": {
     "end_time": "2023-05-07T17:37:45.628008756Z",
     "start_time": "2023-05-07T17:37:45.501575541Z"
    }
   },
   "outputs": [],
   "source": [
    "import csv\n",
    "from tqdm.auto import tqdm\n",
    "import random"
   ]
  },
  {
   "cell_type": "code",
   "execution_count": 3,
   "outputs": [
    {
     "data": {
      "text/plain": "Reading:   0%|          | 0/81314 [00:00<?, ?it/s]",
      "application/vnd.jupyter.widget-view+json": {
       "version_major": 2,
       "version_minor": 0,
       "model_id": "a03b49a0e31e4b4188ced89e9dc23870"
      }
     },
     "metadata": {},
     "output_type": "display_data"
    }
   ],
   "source": [
    "classes = {}\n",
    "index = 0\n",
    "with open(\"./train_clean.csv\", 'r') as file:\n",
    "    csvreader = csv.reader(file)\n",
    "    for row in tqdm(csvreader, desc=\"Reading\", total=81314):\n",
    "        index += 1\n",
    "        if index == 1:\n",
    "            continue\n",
    "        classes[row[0]] = row[1].split(\" \")"
   ],
   "metadata": {
    "collapsed": false,
    "ExecuteTime": {
     "end_time": "2023-05-07T17:38:13.598923281Z",
     "start_time": "2023-05-07T17:38:11.942342135Z"
    }
   }
  },
  {
   "cell_type": "code",
   "execution_count": 4,
   "outputs": [
    {
     "data": {
      "text/plain": "Filtering:   0%|          | 0/81313 [00:00<?, ?it/s]",
      "application/vnd.jupyter.widget-view+json": {
       "version_major": 2,
       "version_minor": 0,
       "model_id": "92acec93192b465ca0e40f1bf434c999"
      }
     },
     "metadata": {},
     "output_type": "display_data"
    }
   ],
   "source": [
    "classes_above_20 = {}\n",
    "for key, value in tqdm(classes.items(), desc=\"Filtering\"):\n",
    "    if len(value) > 20:\n",
    "        classes_above_20[key] = value"
   ],
   "metadata": {
    "collapsed": false,
    "ExecuteTime": {
     "end_time": "2023-05-07T17:38:42.562651436Z",
     "start_time": "2023-05-07T17:38:42.311058784Z"
    }
   }
  },
  {
   "cell_type": "code",
   "execution_count": 5,
   "outputs": [
    {
     "name": "stdout",
     "output_type": "stream",
     "text": [
      "19693\n"
     ]
    }
   ],
   "source": [
    "classes_above_20_list = list(classes_above_20.keys())\n",
    "classes_above_20_list.sort()\n",
    "print(len(classes_above_20_list))"
   ],
   "metadata": {
    "collapsed": false,
    "ExecuteTime": {
     "end_time": "2023-05-07T17:42:16.433170446Z",
     "start_time": "2023-05-07T17:42:16.359950597Z"
    }
   }
  },
  {
   "cell_type": "code",
   "execution_count": 6,
   "outputs": [
    {
     "name": "stdout",
     "output_type": "stream",
     "text": [
      "5000\n"
     ]
    }
   ],
   "source": [
    "selected_classes_list = random.sample(classes_above_20_list, 5000)\n",
    "print(len(selected_classes_list))"
   ],
   "metadata": {
    "collapsed": false,
    "ExecuteTime": {
     "end_time": "2023-05-07T17:45:03.517821885Z",
     "start_time": "2023-05-07T17:45:03.504613551Z"
    }
   }
  },
  {
   "cell_type": "code",
   "execution_count": null,
   "outputs": [],
   "source": [
    "images = []\n",
    "for key in selected_classes_list:\n",
    "    possible_images = classes[key]\n",
    "    if len(possible_images) > 50:\n",
    "        images += random.sample(possible_images, 20)\n",
    "    else:\n",
    "        images += possible_images"
   ],
   "metadata": {
    "collapsed": false,
    "ExecuteTime": {
     "start_time": "2023-04-12T02:20:40.744590Z",
     "end_time": "2023-04-12T02:20:40.796697Z"
    }
   }
  },
  {
   "cell_type": "code",
   "execution_count": null,
   "outputs": [],
   "source": [
    "print(len(images))"
   ],
   "metadata": {
    "collapsed": false,
    "ExecuteTime": {
     "start_time": "2023-04-12T02:20:41.264984Z",
     "end_time": "2023-04-12T02:20:41.271411Z"
    }
   }
  },
  {
   "cell_type": "code",
   "execution_count": null,
   "outputs": [],
   "source": [
    "all_images_to_classes = {}\n",
    "for key, value in tqdm(classes.items(), desc=\"Filtering\"):\n",
    "    for image in value:\n",
    "        all_images_to_classes[image] = key"
   ],
   "metadata": {
    "collapsed": false,
    "ExecuteTime": {
     "start_time": "2023-04-08T16:30:07.758471Z",
     "end_time": "2023-04-08T16:30:09.217680Z"
    }
   }
  },
  {
   "cell_type": "code",
   "execution_count": null,
   "outputs": [],
   "source": [
    "images.sort()\n",
    "print(images[:10])"
   ],
   "metadata": {
    "collapsed": false,
    "ExecuteTime": {
     "start_time": "2023-04-08T16:30:12.839452Z",
     "end_time": "2023-04-08T16:30:12.844704Z"
    }
   }
  },
  {
   "cell_type": "code",
   "execution_count": null,
   "outputs": [],
   "source": [
    "images_to_classes = {}\n",
    "for image in images:\n",
    "    images_to_classes[image] = all_images_to_classes[image]"
   ],
   "metadata": {
    "collapsed": false,
    "ExecuteTime": {
     "start_time": "2023-04-08T16:30:16.582101Z",
     "end_time": "2023-04-08T16:30:16.781754Z"
    }
   }
  },
  {
   "cell_type": "code",
   "execution_count": null,
   "outputs": [],
   "source": [
    "with open(\"./train_clean_5000.csv\", 'w') as file:\n",
    "    csvwriter = csv.writer(file)\n",
    "    csvwriter.writerow([\"image\", \"landmark_id\"])\n",
    "    for key, value in tqdm(images_to_classes.items(), desc=\"Writing\"):\n",
    "        csvwriter.writerow([key, value])"
   ],
   "metadata": {
    "collapsed": false,
    "ExecuteTime": {
     "start_time": "2023-04-08T16:30:37.482204Z",
     "end_time": "2023-04-08T16:30:38.033252Z"
    }
   }
  },
  {
   "cell_type": "code",
   "execution_count": null,
   "outputs": [],
   "source": [],
   "metadata": {
    "collapsed": false
   }
  }
 ],
 "metadata": {
  "kernelspec": {
   "display_name": "Python 3",
   "language": "python",
   "name": "python3"
  },
  "language_info": {
   "codemirror_mode": {
    "name": "ipython",
    "version": 2
   },
   "file_extension": ".py",
   "mimetype": "text/x-python",
   "name": "python",
   "nbconvert_exporter": "python",
   "pygments_lexer": "ipython2",
   "version": "2.7.6"
  }
 },
 "nbformat": 4,
 "nbformat_minor": 0
}
