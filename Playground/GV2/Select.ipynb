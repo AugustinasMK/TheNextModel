{
 "cells": [
  {
   "cell_type": "code",
   "execution_count": null,
   "metadata": {
    "collapsed": true,
    "ExecuteTime": {
     "start_time": "2023-04-12T02:19:23.824548Z",
     "end_time": "2023-04-12T02:19:23.942951Z"
    }
   },
   "outputs": [],
   "source": [
    "import csv\n",
    "from tqdm.auto import tqdm\n",
    "import random"
   ]
  },
  {
   "cell_type": "code",
   "execution_count": null,
   "outputs": [],
   "source": [
    "classes = {}\n",
    "index = 0\n",
    "with open(\"./train_clean.csv\", 'r') as file:\n",
    "    csvreader = csv.reader(file)\n",
    "    for row in tqdm(csvreader, desc=\"Reading\", total=81314):\n",
    "        index += 1\n",
    "        if index == 1:\n",
    "            continue\n",
    "        classes[row[0]] = row[1].split(\" \")"
   ],
   "metadata": {
    "collapsed": false,
    "ExecuteTime": {
     "start_time": "2023-04-12T02:19:25.812485Z",
     "end_time": "2023-04-12T02:19:27.036114Z"
    }
   }
  },
  {
   "cell_type": "code",
   "execution_count": null,
   "outputs": [],
   "source": [
    "classes_above_20 = {}\n",
    "for key, value in tqdm(classes.items(), desc=\"Filtering\"):\n",
    "    if len(value) > 20:\n",
    "        classes_above_20[key] = value"
   ],
   "metadata": {
    "collapsed": false,
    "ExecuteTime": {
     "start_time": "2023-04-12T02:19:27.892183Z",
     "end_time": "2023-04-12T02:19:28.044426Z"
    }
   }
  },
  {
   "cell_type": "code",
   "execution_count": null,
   "outputs": [],
   "source": [
    "classes_above_20_list = list(classes_above_20.keys())\n",
    "classes_above_20_list.sort()\n",
    "print(len(classes_above_20_list))"
   ],
   "metadata": {
    "collapsed": false,
    "ExecuteTime": {
     "start_time": "2023-04-12T02:19:31.062369Z",
     "end_time": "2023-04-12T02:19:31.081608Z"
    }
   }
  },
  {
   "cell_type": "code",
   "execution_count": null,
   "outputs": [],
   "source": [
    "selected_classes_list = random.sample(classes_above_20_list, 5000)\n",
    "print(len(selected_classes_list))"
   ],
   "metadata": {
    "collapsed": false,
    "ExecuteTime": {
     "start_time": "2023-04-12T02:19:31.898551Z",
     "end_time": "2023-04-12T02:19:31.912968Z"
    }
   }
  },
  {
   "cell_type": "code",
   "execution_count": null,
   "outputs": [],
   "source": [
    "images = []\n",
    "for key in selected_classes_list:\n",
    "    possible_images = classes[key]\n",
    "    if len(possible_images) > 50:\n",
    "        images += random.sample(possible_images, 20)\n",
    "    else:\n",
    "        images += possible_images"
   ],
   "metadata": {
    "collapsed": false,
    "ExecuteTime": {
     "start_time": "2023-04-12T02:20:40.744590Z",
     "end_time": "2023-04-12T02:20:40.796697Z"
    }
   }
  },
  {
   "cell_type": "code",
   "execution_count": null,
   "outputs": [],
   "source": [
    "print(len(images))"
   ],
   "metadata": {
    "collapsed": false,
    "ExecuteTime": {
     "start_time": "2023-04-12T02:20:41.264984Z",
     "end_time": "2023-04-12T02:20:41.271411Z"
    }
   }
  },
  {
   "cell_type": "code",
   "execution_count": null,
   "outputs": [],
   "source": [
    "all_images_to_classes = {}\n",
    "for key, value in tqdm(classes.items(), desc=\"Filtering\"):\n",
    "    for image in value:\n",
    "        all_images_to_classes[image] = key"
   ],
   "metadata": {
    "collapsed": false,
    "ExecuteTime": {
     "start_time": "2023-04-08T16:30:07.758471Z",
     "end_time": "2023-04-08T16:30:09.217680Z"
    }
   }
  },
  {
   "cell_type": "code",
   "execution_count": null,
   "outputs": [],
   "source": [
    "images.sort()\n",
    "print(images[:10])"
   ],
   "metadata": {
    "collapsed": false,
    "ExecuteTime": {
     "start_time": "2023-04-08T16:30:12.839452Z",
     "end_time": "2023-04-08T16:30:12.844704Z"
    }
   }
  },
  {
   "cell_type": "code",
   "execution_count": null,
   "outputs": [],
   "source": [
    "images_to_classes = {}\n",
    "for image in images:\n",
    "    images_to_classes[image] = all_images_to_classes[image]"
   ],
   "metadata": {
    "collapsed": false,
    "ExecuteTime": {
     "start_time": "2023-04-08T16:30:16.582101Z",
     "end_time": "2023-04-08T16:30:16.781754Z"
    }
   }
  },
  {
   "cell_type": "code",
   "execution_count": null,
   "outputs": [],
   "source": [
    "with open(\"./train_clean_5000.csv\", 'w') as file:\n",
    "    csvwriter = csv.writer(file)\n",
    "    csvwriter.writerow([\"image\", \"landmark_id\"])\n",
    "    for key, value in tqdm(images_to_classes.items(), desc=\"Writing\"):\n",
    "        csvwriter.writerow([key, value])"
   ],
   "metadata": {
    "collapsed": false,
    "ExecuteTime": {
     "start_time": "2023-04-08T16:30:37.482204Z",
     "end_time": "2023-04-08T16:30:38.033252Z"
    }
   }
  },
  {
   "cell_type": "code",
   "execution_count": null,
   "outputs": [],
   "source": [],
   "metadata": {
    "collapsed": false
   }
  }
 ],
 "metadata": {
  "kernelspec": {
   "display_name": "Python 3",
   "language": "python",
   "name": "python3"
  },
  "language_info": {
   "codemirror_mode": {
    "name": "ipython",
    "version": 2
   },
   "file_extension": ".py",
   "mimetype": "text/x-python",
   "name": "python",
   "nbconvert_exporter": "python",
   "pygments_lexer": "ipython2",
   "version": "2.7.6"
  }
 },
 "nbformat": 4,
 "nbformat_minor": 0
}
