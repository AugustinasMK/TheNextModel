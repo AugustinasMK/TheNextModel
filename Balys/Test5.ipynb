{
 "cells": [
  {
   "cell_type": "code",
   "execution_count": 1,
   "metadata": {
    "collapsed": true
   },
   "outputs": [
    {
     "name": "stdout",
     "output_type": "stream",
     "text": [
      "Device: cuda:0\n"
     ]
    }
   ],
   "source": [
    "from datetime import datetime\n",
    "import numpy as np\n",
    "import torch\n",
    "import torchvision\n",
    "import torchvision.transforms as transforms\n",
    "\n",
    "device = torch.device('cuda:0' if torch.cuda.is_available() else 'cpu')\n",
    "print(f'Device: {device}')"
   ]
  },
  {
   "cell_type": "code",
   "execution_count": 2,
   "metadata": {},
   "outputs": [],
   "source": [
    "def seconds_to_time(seconds):\n",
    "    s = int(seconds) % 60\n",
    "    m = int(seconds) // 60\n",
    "    if m < 1:\n",
    "        return f'{s}s'\n",
    "    h = m // 60\n",
    "    m = m % 60\n",
    "    if h < 1:\n",
    "        return f'{m}m{s}s'\n",
    "    return f'{h}h{m}m{s}s'"
   ]
  },
  {
   "cell_type": "code",
   "execution_count": 3,
   "metadata": {},
   "outputs": [],
   "source": [
    "def train(model, loader, classes, epoch_count = 10, lr = 1e-3):\n",
    "  loss_func = torch.nn.CrossEntropyLoss()\n",
    "  optimizer = torch.optim.Adam(model.parameters(), lr = lr)\n",
    "  model.train()\n",
    "\n",
    "  start_time = datetime.now()\n",
    "\n",
    "  for epoch in range(epoch_count):\n",
    "    loss_acum = np.array([], dtype = np.float32)\n",
    "\n",
    "    for data in loader:\n",
    "      images = data[0].to(device)\n",
    "      labels = torch.nn.functional.one_hot(data[1], classes).float().to(device)\n",
    "\n",
    "      pred = model(images)\n",
    "      loss = loss_func(pred, labels)\n",
    "      loss_acum = np.append(loss_acum, loss.cpu().detach().numpy())\n",
    "\n",
    "      loss.backward()\n",
    "      optimizer.step()\n",
    "      optimizer.zero_grad()\n",
    "\n",
    "    current_time = datetime.now()\n",
    "    elapsed = seconds_to_time((current_time - start_time).total_seconds())\n",
    "    print(f'Epoch: {epoch}, Time: {elapsed}, Loss: {np.mean(loss_acum)}')"
   ]
  },
  {
   "cell_type": "code",
   "execution_count": 4,
   "metadata": {},
   "outputs": [],
   "source": [
    "def evaluate(model, loader):\n",
    "  model.eval()\n",
    "\n",
    "  correct_predictions = 0\n",
    "  total_predictions = 0\n",
    "\n",
    "  start_time = datetime.now()\n",
    "  for data in loader:\n",
    "    images = data[0].to(device)\n",
    "    labels = data[1].to(device)\n",
    "\n",
    "    with torch.no_grad():\n",
    "      pred = model(images)\n",
    "    label_pred = torch.argmax(pred, axis = 1)\n",
    "\n",
    "    correct_predictions += torch.sum(labels == label_pred)\n",
    "    total_predictions += images.shape[0]\n",
    "\n",
    "  current_time = datetime.now()\n",
    "  per_image = (current_time - start_time).total_seconds() / total_predictions\n",
    "  print(f'Time: {per_image * 1000}ms, Accuracy: {correct_predictions / total_predictions}')"
   ]
  },
  {
   "cell_type": "code",
   "execution_count": 5,
   "metadata": {},
   "outputs": [
    {
     "name": "stdout",
     "output_type": "stream",
     "text": [
      "Train: 60000, Test: 10000\n"
     ]
    }
   ],
   "source": [
    "transforms_train = transforms.Compose([\n",
    "    transforms.RandomHorizontalFlip(),\n",
    "    transforms.ToTensor(),\n",
    "])\n",
    "\n",
    "transforms_test = transforms.Compose([\n",
    "    transforms.ToTensor(),\n",
    "])\n",
    "\n",
    "train_dataset = torchvision.datasets.FashionMNIST('fmnist', train = True, download = True, transform = transforms_train)\n",
    "test_dataset = torchvision.datasets.FashionMNIST('fmnist', train = False, download = True, transform = transforms_test)\n",
    "\n",
    "num_workers = 2\n",
    "batch_size = 128\n",
    "\n",
    "train_loader = torch.utils.data.DataLoader(train_dataset, batch_size = batch_size, num_workers = num_workers, shuffle = True)\n",
    "test_loader = torch.utils.data.DataLoader(test_dataset, batch_size = batch_size, num_workers = num_workers, shuffle = False)\n",
    "\n",
    "print(f'Train: {len(train_dataset)}, Test: {len(test_dataset)}')"
   ]
  },
  {
   "cell_type": "code",
   "execution_count": 6,
   "metadata": {},
   "outputs": [],
   "source": [
    "#@title Paprastas konvoliucinis tinklas\n",
    "class SimpleConvNet(torch.nn.Module):\n",
    "  def __init__(self, in_shape, out_classes):\n",
    "    super().__init__()\n",
    "    self.conv1 = torch.nn.Conv2d(in_shape[0], 4, (3, 3), padding = 'same')\n",
    "    self.conv2 = torch.nn.Conv2d(4, 8, (3, 3), padding = 'same')\n",
    "    self.fc1 = torch.nn.Linear(8 * (in_shape[1] // 4) * (in_shape[2] // 4), 128)\n",
    "    self.fc2 = torch.nn.Linear(128, out_classes)\n",
    "\n",
    "  def forward(self, x):\n",
    "    y = torch.nn.ReLU()(self.conv1(x))\n",
    "    y = torch.nn.MaxPool2d((2, 2), (2, 2))(y)\n",
    "    y = torch.nn.ReLU()(self.conv2(y))\n",
    "    y = torch.nn.MaxPool2d((2, 2), (2, 2))(y)\n",
    "    y = torch.nn.Flatten()(y)\n",
    "    y = torch.nn.ReLU()(self.fc1(y))\n",
    "    y = self.fc2(y)\n",
    "    return y"
   ]
  },
  {
   "cell_type": "code",
   "execution_count": 7,
   "metadata": {},
   "outputs": [
    {
     "name": "stdout",
     "output_type": "stream",
     "text": [
      "Parameter count: 51,285\n",
      "Time: 0.09490741666666667ms, Accuracy: 0.11505000293254852\n"
     ]
    }
   ],
   "source": [
    "class_count = 5\n",
    "# model = MlpNet(train_dataset[0][0].shape, 128, class_count).to(device)\n",
    "model = SimpleConvNet(train_dataset[0][0].shape, class_count).to(device)\n",
    "# model = ComplexConvNet(train_dataset[0][0].shape, class_count).to(device)\n",
    "print(f'Parameter count: {sum(p.numel() for p in model.parameters() if p.requires_grad):,}')\n",
    "\n",
    "# train(model, train_loader, class_count, epoch_count = 30)\n",
    "evaluate(model, train_loader)"
   ]
  },
  {
   "cell_type": "code",
   "execution_count": null,
   "metadata": {},
   "outputs": [],
   "source": []
  }
 ],
 "metadata": {
  "kernelspec": {
   "display_name": "Python 3 (ipykernel)",
   "language": "python",
   "name": "python3"
  },
  "language_info": {
   "codemirror_mode": {
    "name": "ipython",
    "version": 3
   },
   "file_extension": ".py",
   "mimetype": "text/x-python",
   "name": "python",
   "nbconvert_exporter": "python",
   "pygments_lexer": "ipython3",
   "version": "3.10.9"
  }
 },
 "nbformat": 4,
 "nbformat_minor": 1
}
