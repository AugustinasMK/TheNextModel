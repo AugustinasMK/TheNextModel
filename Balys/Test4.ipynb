{
 "cells": [
  {
   "cell_type": "code",
   "execution_count": 1,
   "metadata": {
    "collapsed": true
   },
   "outputs": [
    {
     "name": "stdout",
     "output_type": "stream",
     "text": [
      "Device: cuda:0\n"
     ]
    }
   ],
   "source": [
    "import numpy as np\n",
    "import torch\n",
    "import torchvision\n",
    "import torchvision.transforms as transforms\n",
    "import matplotlib.pyplot as plt\n",
    "\n",
    "device = torch.device('cuda:0' if torch.cuda.is_available() else 'cpu')\n",
    "print(f'Device: {device}')"
   ]
  },
  {
   "cell_type": "code",
   "execution_count": 2,
   "outputs": [
    {
     "data": {
      "text/plain": "[<matplotlib.lines.Line2D at 0x7f227b6213f0>]"
     },
     "execution_count": 2,
     "metadata": {},
     "output_type": "execute_result"
    },
    {
     "data": {
      "text/plain": "<Figure size 640x480 with 1 Axes>",
      "image/png": "[encoded data removed]"
     },
     "metadata": {},
     "output_type": "display_data"
    }
   ],
   "source": [
    "x = np.linspace(-np.pi, np.pi, 2000).astype(np.float32)\n",
    "y = np.sin(x)\n",
    "plt.plot(x, y)"
   ],
   "metadata": {
    "collapsed": false
   }
  },
  {
   "cell_type": "code",
   "execution_count": 3,
   "outputs": [
    {
     "name": "stdout",
     "output_type": "stream",
     "text": [
      "tensor(0.3376, device='cuda:0', requires_grad=True) tensor(0.8138, device='cuda:0', requires_grad=True) tensor(1.4112, device='cuda:0', requires_grad=True) tensor(-1.1005, device='cuda:0', requires_grad=True)\n"
     ]
    }
   ],
   "source": [
    "x = torch.from_numpy(x).to(device)\n",
    "y = torch.from_numpy(y).to(device)\n",
    "\n",
    "a = torch.randn((), device = device, requires_grad = True)\n",
    "b = torch.randn((), device = device, requires_grad = True)\n",
    "c = torch.randn((), device = device, requires_grad = True)\n",
    "d = torch.randn((), device = device, requires_grad = True)\n",
    "\n",
    "print(a, b, c, d)"
   ],
   "metadata": {
    "collapsed": false
   }
  },
  {
   "cell_type": "code",
   "execution_count": 4,
   "outputs": [
    {
     "name": "stdout",
     "output_type": "stream",
     "text": [
      "tensor(0.0162, device='cuda:0', requires_grad=True) tensor(0.8692, device='cuda:0', requires_grad=True) tensor(-0.0028, device='cuda:0', requires_grad=True) tensor(-0.0951, device='cuda:0', requires_grad=True)\n"
     ]
    }
   ],
   "source": [
    "lr = 1e-3\n",
    "\n",
    "for i in range(2000):\n",
    "  y_pred = a + b * x + c * x**2 + d * x**3\n",
    "\n",
    "  loss = ((y - y_pred)**2).mean()\n",
    "  loss.backward()\n",
    "\n",
    "  with torch.no_grad():\n",
    "    a -= lr * a.grad\n",
    "    b -= lr * b.grad\n",
    "    c -= lr * c.grad\n",
    "    d -= lr * d.grad\n",
    "\n",
    "    a.grad = None\n",
    "    b.grad = None\n",
    "    c.grad = None\n",
    "    d.grad = None\n",
    "\n",
    "print(a, b, c, d)"
   ],
   "metadata": {
    "collapsed": false
   }
  },
  {
   "cell_type": "code",
   "execution_count": 5,
   "outputs": [
    {
     "name": "stdout",
     "output_type": "stream",
     "text": [
      "Downloading http://fashion-mnist.s3-website.eu-central-1.amazonaws.com/train-images-idx3-ubyte.gz\n"
     ]
    },
    {
     "name": "stderr",
     "output_type": "stream",
     "text": [
      "0.7%"
     ]
    },
    {
     "name": "stdout",
     "output_type": "stream",
     "text": [
      "Downloading http://fashion-mnist.s3-website.eu-central-1.amazonaws.com/train-images-idx3-ubyte.gz to fminst/FashionMNIST/raw/train-images-idx3-ubyte.gz\n"
     ]
    },
    {
     "name": "stderr",
     "output_type": "stream",
     "text": [
      "100.0%\n"
     ]
    },
    {
     "name": "stdout",
     "output_type": "stream",
     "text": [
      "Extracting fminst/FashionMNIST/raw/train-images-idx3-ubyte.gz to fminst/FashionMNIST/raw\n"
     ]
    },
    {
     "name": "stderr",
     "output_type": "stream",
     "text": [
      "100.0%"
     ]
    },
    {
     "name": "stdout",
     "output_type": "stream",
     "text": [
      "\n",
      "Downloading http://fashion-mnist.s3-website.eu-central-1.amazonaws.com/train-labels-idx1-ubyte.gz\n",
      "Downloading http://fashion-mnist.s3-website.eu-central-1.amazonaws.com/train-labels-idx1-ubyte.gz to fminst/FashionMNIST/raw/train-labels-idx1-ubyte.gz\n",
      "Extracting fminst/FashionMNIST/raw/train-labels-idx1-ubyte.gz to fminst/FashionMNIST/raw\n",
      "\n",
      "Downloading http://fashion-mnist.s3-website.eu-central-1.amazonaws.com/t10k-images-idx3-ubyte.gz\n"
     ]
    },
    {
     "name": "stderr",
     "output_type": "stream",
     "text": [
      "\n",
      "9.6%"
     ]
    },
    {
     "name": "stdout",
     "output_type": "stream",
     "text": [
      "Downloading http://fashion-mnist.s3-website.eu-central-1.amazonaws.com/t10k-images-idx3-ubyte.gz to fminst/FashionMNIST/raw/t10k-images-idx3-ubyte.gz\n"
     ]
    },
    {
     "name": "stderr",
     "output_type": "stream",
     "text": [
      "100.0%\n"
     ]
    },
    {
     "name": "stdout",
     "output_type": "stream",
     "text": [
      "Extracting fminst/FashionMNIST/raw/t10k-images-idx3-ubyte.gz to fminst/FashionMNIST/raw\n",
      "\n",
      "Downloading http://fashion-mnist.s3-website.eu-central-1.amazonaws.com/t10k-labels-idx1-ubyte.gz\n",
      "Downloading http://fashion-mnist.s3-website.eu-central-1.amazonaws.com/t10k-labels-idx1-ubyte.gz to fminst/FashionMNIST/raw/t10k-labels-idx1-ubyte.gz\n"
     ]
    },
    {
     "name": "stderr",
     "output_type": "stream",
     "text": [
      "100.0%\n"
     ]
    },
    {
     "name": "stdout",
     "output_type": "stream",
     "text": [
      "Extracting fminst/FashionMNIST/raw/t10k-labels-idx1-ubyte.gz to fminst/FashionMNIST/raw\n",
      "\n",
      "Downloading http://fashion-mnist.s3-website.eu-central-1.amazonaws.com/train-images-idx3-ubyte.gz\n",
      "Downloading http://fashion-mnist.s3-website.eu-central-1.amazonaws.com/train-images-idx3-ubyte.gz to fmnist/FashionMNIST/raw/train-images-idx3-ubyte.gz\n"
     ]
    },
    {
     "name": "stderr",
     "output_type": "stream",
     "text": [
      "100.0%\n"
     ]
    },
    {
     "name": "stdout",
     "output_type": "stream",
     "text": [
      "Extracting fmnist/FashionMNIST/raw/train-images-idx3-ubyte.gz to fmnist/FashionMNIST/raw\n",
      "\n",
      "Downloading http://fashion-mnist.s3-website.eu-central-1.amazonaws.com/train-labels-idx1-ubyte.gz\n",
      "Downloading http://fashion-mnist.s3-website.eu-central-1.amazonaws.com/train-labels-idx1-ubyte.gz to fmnist/FashionMNIST/raw/train-labels-idx1-ubyte.gz\n"
     ]
    },
    {
     "name": "stderr",
     "output_type": "stream",
     "text": [
      "100.0%\n"
     ]
    },
    {
     "name": "stdout",
     "output_type": "stream",
     "text": [
      "Extracting fmnist/FashionMNIST/raw/train-labels-idx1-ubyte.gz to fmnist/FashionMNIST/raw\n",
      "\n",
      "Downloading http://fashion-mnist.s3-website.eu-central-1.amazonaws.com/t10k-images-idx3-ubyte.gz\n",
      "Downloading http://fashion-mnist.s3-website.eu-central-1.amazonaws.com/t10k-images-idx3-ubyte.gz to fmnist/FashionMNIST/raw/t10k-images-idx3-ubyte.gz\n"
     ]
    },
    {
     "name": "stderr",
     "output_type": "stream",
     "text": [
      "100.0%\n"
     ]
    },
    {
     "name": "stdout",
     "output_type": "stream",
     "text": [
      "Extracting fmnist/FashionMNIST/raw/t10k-images-idx3-ubyte.gz to fmnist/FashionMNIST/raw\n",
      "\n",
      "Downloading http://fashion-mnist.s3-website.eu-central-1.amazonaws.com/t10k-labels-idx1-ubyte.gz\n",
      "Downloading http://fashion-mnist.s3-website.eu-central-1.amazonaws.com/t10k-labels-idx1-ubyte.gz to fmnist/FashionMNIST/raw/t10k-labels-idx1-ubyte.gz\n"
     ]
    },
    {
     "name": "stderr",
     "output_type": "stream",
     "text": [
      "100.0%"
     ]
    },
    {
     "name": "stdout",
     "output_type": "stream",
     "text": [
      "Extracting fmnist/FashionMNIST/raw/t10k-labels-idx1-ubyte.gz to fmnist/FashionMNIST/raw\n",
      "\n"
     ]
    },
    {
     "name": "stderr",
     "output_type": "stream",
     "text": [
      "\n"
     ]
    }
   ],
   "source": [
    "transforms_train = transforms.Compose([\n",
    "    transforms.RandomHorizontalFlip(),\n",
    "    transforms.ToTensor(),\n",
    "])\n",
    "\n",
    "transforms_test = transforms.Compose([\n",
    "    transforms.ToTensor(),\n",
    "])\n",
    "\n",
    "train_dataset = torchvision.datasets.FashionMNIST('fminst', train = True, download = True, transform = transforms_train)\n",
    "test_dataset = torchvision.datasets.FashionMNIST('fmnist', train = False, download = True, transform = transforms_test)\n",
    "\n",
    "num_workers = 2\n",
    "batch_size = 128\n",
    "\n",
    "train_loader = torch.utils.data.DataLoader(train_dataset, batch_size = batch_size, num_workers = num_workers, shuffle = True)\n",
    "test_loader = torch.utils.data.DataLoader(test_dataset, batch_size = batch_size, num_workers = num_workers, shuffle = False)"
   ],
   "metadata": {
    "collapsed": false
   }
  },
  {
   "cell_type": "code",
   "execution_count": 6,
   "outputs": [
    {
     "name": "stdout",
     "output_type": "stream",
     "text": [
      "MlpNet(\n",
      "  (hidden_layer): Linear(in_features=784, out_features=64, bias=True)\n",
      "  (output_layer): Linear(in_features=64, out_features=10, bias=True)\n",
      ")\n"
     ]
    }
   ],
   "source": [
    "class MlpNet(torch.nn.Module):\n",
    "  def __init__(self, in_shape, hidden_features, out_classes):\n",
    "    super().__init__()\n",
    "    self.hidden_layer = torch.nn.Linear(np.product(in_shape), hidden_features)\n",
    "    self.output_layer = torch.nn.Linear(hidden_features, out_classes)\n",
    "\n",
    "  def forward(self, x):\n",
    "    y = torch.nn.Flatten()(x)\n",
    "    y = self.hidden_layer(y)\n",
    "    y = torch.nn.ReLU()(y)\n",
    "    y = self.output_layer(y)\n",
    "\n",
    "    return y\n",
    "\n",
    "model = MlpNet((1, 28, 28), 64, 10).to(device)\n",
    "print(model)"
   ],
   "metadata": {
    "collapsed": false
   }
  },
  {
   "cell_type": "code",
   "execution_count": 7,
   "outputs": [
    {
     "name": "stdout",
     "output_type": "stream",
     "text": [
      "60000\n"
     ]
    }
   ],
   "source": [
    "print(len(train_dataset))"
   ],
   "metadata": {
    "collapsed": false
   }
  },
  {
   "cell_type": "code",
   "execution_count": 8,
   "outputs": [
    {
     "name": "stdout",
     "output_type": "stream",
     "text": [
      "Epoch: 0, Loss: 0.6997090578079224\n",
      "Epoch: 1, Loss: 0.4680134654045105\n",
      "Epoch: 2, Loss: 0.42975547909736633\n",
      "Epoch: 3, Loss: 0.40394771099090576\n",
      "Epoch: 4, Loss: 0.3873586356639862\n",
      "Epoch: 5, Loss: 0.37139061093330383\n",
      "Epoch: 6, Loss: 0.36035579442977905\n",
      "Epoch: 7, Loss: 0.3480292856693268\n",
      "Epoch: 8, Loss: 0.34072911739349365\n",
      "Epoch: 9, Loss: 0.33304816484451294\n"
     ]
    }
   ],
   "source": [
    "epoch_count = 10\n",
    "lr = 1e-3\n",
    "\n",
    "loss_func = torch.nn.CrossEntropyLoss()\n",
    "optimizer = torch.optim.Adam(model.parameters(), lr = lr)\n",
    "\n",
    "for epoch in range(epoch_count):\n",
    "  loss_acum = np.array([], dtype = np.float32)\n",
    "\n",
    "  for data in train_loader:\n",
    "    images = data[0].to(device)\n",
    "    labels = torch.nn.functional.one_hot(data[1], 10).float().to(device)\n",
    "\n",
    "    pred = model(images)\n",
    "    loss = loss_func(pred, labels)\n",
    "    loss_acum = np.append(loss_acum, loss.cpu().detach().numpy())\n",
    "\n",
    "    loss.backward()\n",
    "    optimizer.step()\n",
    "    optimizer.zero_grad()\n",
    "\n",
    "  print(f'Epoch: {epoch}, Loss: {np.mean(loss_acum)}')"
   ],
   "metadata": {
    "collapsed": false
   }
  },
  {
   "cell_type": "code",
   "execution_count": 11,
   "outputs": [
    {
     "name": "stdout",
     "output_type": "stream",
     "text": [
      "Accuracy: 0.8605999946594238\n"
     ]
    }
   ],
   "source": [
    "model.eval()\n",
    "correct_predictions = 0\n",
    "total_predictions = 0\n",
    "\n",
    "for data in test_loader:\n",
    "  images = data[0].to(device)\n",
    "  labels = data[1].to(device)\n",
    "\n",
    "  pred = model(images)\n",
    "  label_pred = torch.argmax(pred, dim = 1)\n",
    "\n",
    "  correct_predictions += torch.sum(labels == label_pred)\n",
    "  total_predictions += images.shape[0]\n",
    "\n",
    "print(f'Accuracy: {correct_predictions / total_predictions}')"
   ],
   "metadata": {
    "collapsed": false
   }
  },
  {
   "cell_type": "code",
   "execution_count": null,
   "outputs": [],
   "source": [],
   "metadata": {
    "collapsed": false
   }
  }
 ],
 "metadata": {
  "kernelspec": {
   "display_name": "Python 3",
   "language": "python",
   "name": "python3"
  },
  "language_info": {
   "codemirror_mode": {
    "name": "ipython",
    "version": 2
   },
   "file_extension": ".py",
   "mimetype": "text/x-python",
   "name": "python",
   "nbconvert_exporter": "python",
   "pygments_lexer": "ipython2",
   "version": "2.7.6"
  }
 },
 "nbformat": 4,
 "nbformat_minor": 0
}
