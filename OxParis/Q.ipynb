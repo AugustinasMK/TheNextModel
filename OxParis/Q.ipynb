{
 "cells": [
  {
   "cell_type": "code",
   "execution_count": 17,
   "metadata": {
    "collapsed": true,
    "ExecuteTime": {
     "end_time": "2023-05-14T15:36:58.413067947Z",
     "start_time": "2023-05-14T15:36:58.369144514Z"
    }
   },
   "outputs": [],
   "source": [
    "import csv\n",
    "import shutil"
   ]
  },
  {
   "cell_type": "code",
   "execution_count": 18,
   "outputs": [],
   "source": [
    "oxford_landmarks = ['all_souls', 'ashmolean', 'balliol', 'bodleian', 'christ_church', 'cornmarket', 'hertford', 'keble', 'magdalen', 'pitt_rivers', 'radcliffe_camera']\n",
    "paris_landmarks = ['defense', 'eiffel', 'invalides', 'louvre', 'moulinrouge', 'museedorsay', 'notredame', 'pantheon', 'pompidou', 'sacrecoeur', 'triomphe']"
   ],
   "metadata": {
    "collapsed": false,
    "ExecuteTime": {
     "end_time": "2023-05-14T15:37:04.522013871Z",
     "start_time": "2023-05-14T15:37:04.514075301Z"
    }
   }
  },
  {
   "cell_type": "code",
   "execution_count": 21,
   "outputs": [
    {
     "name": "stdout",
     "output_type": "stream",
     "text": [
      "all_souls_000013.jpg\n",
      "all_souls_000026.jpg\n",
      "oxford_002985.jpg\n",
      "all_souls_000051.jpg\n",
      "oxford_003410.jpg\n",
      "ashmolean_000058.jpg\n",
      "ashmolean_000000.jpg\n",
      "ashmolean_000269.jpg\n",
      "ashmolean_000007.jpg\n",
      "ashmolean_000305.jpg\n",
      "balliol_000051.jpg\n",
      "balliol_000187.jpg\n",
      "balliol_000167.jpg\n",
      "balliol_000194.jpg\n",
      "oxford_001753.jpg\n",
      "bodleian_000107.jpg\n",
      "oxford_002416.jpg\n",
      "bodleian_000108.jpg\n",
      "bodleian_000407.jpg\n",
      "bodleian_000163.jpg\n",
      "christ_church_000179.jpg\n",
      "oxford_002734.jpg\n",
      "christ_church_000999.jpg\n",
      "christ_church_001020.jpg\n",
      "oxford_002562.jpg\n",
      "cornmarket_000047.jpg\n",
      "cornmarket_000105.jpg\n",
      "cornmarket_000019.jpg\n",
      "oxford_000545.jpg\n",
      "cornmarket_000131.jpg\n",
      "hertford_000015.jpg\n",
      "oxford_001752.jpg\n",
      "oxford_000317.jpg\n",
      "hertford_000027.jpg\n",
      "hertford_000063.jpg\n",
      "keble_000245.jpg\n",
      "keble_000214.jpg\n",
      "keble_000227.jpg\n",
      "keble_000028.jpg\n",
      "keble_000055.jpg\n",
      "magdalen_000078.jpg\n",
      "oxford_003335.jpg\n",
      "magdalen_000058.jpg\n",
      "oxford_001115.jpg\n",
      "magdalen_000560.jpg\n",
      "pitt_rivers_000033.jpg\n",
      "pitt_rivers_000119.jpg\n",
      "pitt_rivers_000153.jpg\n",
      "pitt_rivers_000087.jpg\n",
      "pitt_rivers_000058.jpg\n",
      "radcliffe_camera_000519.jpg\n",
      "oxford_002904.jpg\n",
      "radcliffe_camera_000523.jpg\n",
      "radcliffe_camera_000095.jpg\n",
      "bodleian_000132.jpg\n",
      "paris_defense_000605.jpg\n",
      "paris_defense_000331.jpg\n",
      "paris_defense_000216.jpg\n",
      "paris_defense_000056.jpg\n",
      "paris_defense_000254.jpg\n",
      "paris_general_002985.jpg\n",
      "paris_general_001729.jpg\n",
      "paris_eiffel_000266.jpg\n",
      "paris_general_002645.jpg\n",
      "paris_general_002391.jpg\n",
      "paris_invalides_000355.jpg\n",
      "paris_invalides_000072.jpg\n",
      "paris_invalides_000490.jpg\n",
      "paris_invalides_000229.jpg\n",
      "paris_invalides_000360.jpg\n",
      "paris_louvre_000081.jpg\n",
      "paris_louvre_000135.jpg\n",
      "paris_louvre_000050.jpg\n",
      "paris_louvre_000035.jpg\n",
      "paris_louvre_000139.jpg\n",
      "paris_moulinrouge_000667.jpg\n",
      "paris_moulinrouge_000868.jpg\n",
      "paris_moulinrouge_000657.jpg\n",
      "paris_moulinrouge_000794.jpg\n",
      "paris_moulinrouge_000004.jpg\n",
      "paris_museedorsay_000527.jpg\n",
      "paris_museedorsay_000012.jpg\n",
      "paris_museedorsay_000897.jpg\n",
      "paris_museedorsay_000564.jpg\n",
      "paris_museedorsay_000878.jpg\n",
      "paris_notredame_000256.jpg\n",
      "paris_notredame_000965.jpg\n",
      "paris_notredame_000390.jpg\n",
      "paris_general_003117.jpg\n",
      "paris_notredame_000581.jpg\n",
      "paris_pantheon_000466.jpg\n",
      "paris_pantheon_000520.jpg\n",
      "paris_pantheon_000232.jpg\n",
      "paris_pantheon_000547.jpg\n",
      "paris_pantheon_000339.jpg\n",
      "paris_pompidou_000432.jpg\n",
      "paris_pompidou_000444.jpg\n",
      "paris_pompidou_000252.jpg\n",
      "paris_pompidou_000471.jpg\n",
      "paris_pompidou_000636.jpg\n",
      "paris_sacrecoeur_000162.jpg\n",
      "paris_sacrecoeur_000417.jpg\n",
      "paris_sacrecoeur_000237.jpg\n",
      "paris_sacrecoeur_000586.jpg\n",
      "paris_sacrecoeur_000437.jpg\n",
      "paris_triomphe_000369.jpg\n",
      "paris_triomphe_000016.jpg\n",
      "paris_triomphe_000135.jpg\n",
      "paris_triomphe_000149.jpg\n",
      "paris_defense_000038.jpg\n"
     ]
    }
   ],
   "source": [
    "queries = []\n",
    "for landmark in oxford_landmarks:\n",
    "    for i in range(1, 6):\n",
    "        query_file = f\"{landmark}_{str(i)}_query.txt\"\n",
    "        with open(f\"/home/augustinas/OxParis/oxford_gt/{query_file}\") as my_file:\n",
    "            query = f\"{my_file.readline().split(' ')[0][5:]}.jpg\"\n",
    "            queries.append(query)\n",
    "            print(query)\n",
    "for landmark in paris_landmarks:\n",
    "    for i in range(1, 6):\n",
    "        query_file = f\"{landmark}_{str(i)}_query.txt\"\n",
    "        with open(f\"/home/augustinas/OxParis/paris_gt/{query_file}\") as my_file:\n",
    "            query = f\"{my_file.readline().split(' ')[0]}.jpg\"\n",
    "            queries.append(query)\n",
    "            print(query)"
   ],
   "metadata": {
    "collapsed": false,
    "ExecuteTime": {
     "end_time": "2023-05-14T15:37:26.339922372Z",
     "start_time": "2023-05-14T15:37:26.330345063Z"
    }
   }
  },
  {
   "cell_type": "code",
   "execution_count": 22,
   "outputs": [
    {
     "data": {
      "text/plain": "110"
     },
     "execution_count": 22,
     "metadata": {},
     "output_type": "execute_result"
    }
   ],
   "source": [
    "len(queries)"
   ],
   "metadata": {
    "collapsed": false,
    "ExecuteTime": {
     "end_time": "2023-05-14T15:37:27.973025837Z",
     "start_time": "2023-05-14T15:37:27.967882203Z"
    }
   }
  },
  {
   "cell_type": "code",
   "execution_count": 23,
   "outputs": [],
   "source": [
    "with open('rename.csv', 'w') as f:\n",
    "    # create the csv writer\n",
    "    writer = csv.writer(f)\n",
    "    writer.writerow(['old_name', 'new_name'])\n",
    "    for i in range(len(queries)):\n",
    "        if i < 55:\n",
    "            writer.writerow([f\"oxford/{queries[i]}\", f\"Q{str(i).zfill(3)}.jpg\"])\n",
    "        else:\n",
    "            writer.writerow([f\"paris/{queries[i]}\", f\"Q{str(i).zfill(3)}.jpg\"])\n"
   ],
   "metadata": {
    "collapsed": false,
    "ExecuteTime": {
     "end_time": "2023-05-14T15:37:31.594480265Z",
     "start_time": "2023-05-14T15:37:31.586842876Z"
    }
   }
  },
  {
   "cell_type": "code",
   "execution_count": 25,
   "outputs": [],
   "source": [
    "for i in range(len(queries)):\n",
    "        if i < 55:\n",
    "            shutil.move(f\"/home/augustinas/OxParis/oxford/{queries[i]}\", f\"/home/augustinas/OxParis/dataset/test/Q{str(i).zfill(3)}.jpg\")"
   ],
   "metadata": {
    "collapsed": false,
    "ExecuteTime": {
     "end_time": "2023-05-14T15:41:08.138363266Z",
     "start_time": "2023-05-14T15:41:08.134510834Z"
    }
   }
  },
  {
   "cell_type": "code",
   "execution_count": 27,
   "outputs": [],
   "source": [
    "for i in range(len(queries)):\n",
    "    if i >= 55:\n",
    "        folder = queries[i].split('_')[1]\n",
    "        shutil.move(f\"/home/augustinas/OxParis/paris/{folder}/{queries[i]}\", f\"/home/augustinas/OxParis/dataset/test/Q{str(i).zfill(3)}.jpg\")"
   ],
   "metadata": {
    "collapsed": false,
    "ExecuteTime": {
     "end_time": "2023-05-14T15:56:40.056974322Z",
     "start_time": "2023-05-14T15:56:40.012270863Z"
    }
   }
  },
  {
   "cell_type": "code",
   "execution_count": null,
   "outputs": [],
   "source": [],
   "metadata": {
    "collapsed": false
   }
  }
 ],
 "metadata": {
  "kernelspec": {
   "display_name": "Python 3",
   "language": "python",
   "name": "python3"
  },
  "language_info": {
   "codemirror_mode": {
    "name": "ipython",
    "version": 2
   },
   "file_extension": ".py",
   "mimetype": "text/x-python",
   "name": "python",
   "nbconvert_exporter": "python",
   "pygments_lexer": "ipython2",
   "version": "2.7.6"
  }
 },
 "nbformat": 4,
 "nbformat_minor": 0
}
