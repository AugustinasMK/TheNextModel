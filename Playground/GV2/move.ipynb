{
 "cells": [
  {
   "cell_type": "code",
   "execution_count": 5,
   "metadata": {
    "collapsed": true,
    "ExecuteTime": {
     "start_time": "2023-04-12T02:30:12.085701Z",
     "end_time": "2023-04-12T02:30:12.142383Z"
    }
   },
   "outputs": [],
   "source": [
    "import shutil\n",
    "import os\n",
    "import csv\n",
    "from tqdm.auto import tqdm"
   ]
  },
  {
   "cell_type": "code",
   "execution_count": 6,
   "outputs": [
    {
     "data": {
      "text/plain": "Reading: 0it [00:00, ?it/s]",
      "application/vnd.jupyter.widget-view+json": {
       "version_major": 2,
       "version_minor": 0,
       "model_id": "4e61e7cc4dea4c1f881925313d3a1b07"
      }
     },
     "metadata": {},
     "output_type": "display_data"
    }
   ],
   "source": [
    "images_to_classes = {}\n",
    "index = 0\n",
    "with open(\"./train_clean_5000.csv\", 'r') as file:\n",
    "    csvreader = csv.reader(file)\n",
    "    for row in tqdm(csvreader, desc=\"Reading\"):\n",
    "        index += 1\n",
    "        if index == 1:\n",
    "            continue\n",
    "        images_to_classes[row[0]] = row[1]"
   ],
   "metadata": {
    "collapsed": false,
    "ExecuteTime": {
     "start_time": "2023-04-12T02:30:12.126567Z",
     "end_time": "2023-04-12T02:30:12.427363Z"
    }
   }
  },
  {
   "cell_type": "code",
   "execution_count": 7,
   "outputs": [
    {
     "data": {
      "text/plain": "138520"
     },
     "execution_count": 7,
     "metadata": {},
     "output_type": "execute_result"
    }
   ],
   "source": [
    "len(images_to_classes)"
   ],
   "metadata": {
    "collapsed": false,
    "ExecuteTime": {
     "start_time": "2023-04-12T02:30:21.057913Z",
     "end_time": "2023-04-12T02:30:21.094861Z"
    }
   }
  },
  {
   "cell_type": "code",
   "execution_count": 8,
   "outputs": [],
   "source": [
    "letters_to_src = {'0': '/home/augustinas/google-landmark/train/0/', '1': '/home/augustinas/google-landmark/train/1/',\n",
    "                  '2': '/home/augustinas/google-landmark/train/2/', '3': '/home/augustinas/google-landmark/train/3/',\n",
    "                  '4': '/home/augustinas/google-landmark/train/4/', '5': '/home/augustinas/google-landmark/train/5/',\n",
    "                  '6': '/home/augustinas/google-landmark/train/6/', '7': '/home/augustinas/google-landmark/train/7/',\n",
    "                  '8': '/home/augustinas/google-landmark/train/8/', '9': '/home/augustinas/google-landmark/train/9/',\n",
    "                  'a': '/home/augustinas/google-landmark/train/a/',\n",
    "                  'b': '/media/augustinas/Data/T7/google-landmark/train/b/',\n",
    "                  'c': '/media/augustinas/Data/T7/google-landmark/train/c/',\n",
    "                  'd': '/media/augustinas/T7/google-landmark/train/d/',\n",
    "                  'e': '/media/augustinas/T7/google-landmark/train/e/',\n",
    "                  'f': '/media/augustinas/T7/google-landmark/train/f/'}"
   ],
   "metadata": {
    "collapsed": false,
    "ExecuteTime": {
     "start_time": "2023-04-12T02:35:11.648564Z",
     "end_time": "2023-04-12T02:35:11.706843Z"
    }
   }
  },
  {
   "cell_type": "code",
   "execution_count": 9,
   "outputs": [],
   "source": [
    "dist = '/media/augustinas/T7/google-landmark/small_train/'"
   ],
   "metadata": {
    "collapsed": false,
    "ExecuteTime": {
     "start_time": "2023-04-12T02:39:11.459857Z",
     "end_time": "2023-04-12T02:39:11.507042Z"
    }
   }
  },
  {
   "cell_type": "code",
   "execution_count": 18,
   "outputs": [
    {
     "data": {
      "text/plain": "Copying: 0it [00:00, ?it/s]",
      "application/vnd.jupyter.widget-view+json": {
       "version_major": 2,
       "version_minor": 0,
       "model_id": "2c4febe04c5248dea5020d1b2ff02c82"
      }
     },
     "metadata": {},
     "output_type": "display_data"
    }
   ],
   "source": [
    "name_to_index = {}\n",
    "for step, value in tqdm(enumerate(images_to_classes.keys()), desc=\"Copying\"):\n",
    "    src = f'{letters_to_src[value[0]]}{value[1]}/{value[2]}/{value}.jpg'\n",
    "    dst = f\"{dist}T{str(step).zfill(6)}.jpg\"\n",
    "    name_to_index[value] = f\"T{str(step).zfill(6)}.jpg\"\n",
    "    shutil.copyfile(src, dst)"
   ],
   "metadata": {
    "collapsed": false,
    "ExecuteTime": {
     "start_time": "2023-04-12T02:47:11.714732Z",
     "end_time": "2023-04-12T04:38:05.450775Z"
    }
   }
  },
  {
   "cell_type": "code",
   "execution_count": 19,
   "outputs": [
    {
     "data": {
      "text/plain": "Writing:   0%|          | 0/138520 [00:00<?, ?it/s]",
      "application/vnd.jupyter.widget-view+json": {
       "version_major": 2,
       "version_minor": 0,
       "model_id": "e91f154f97104191b4dfdf81a1d4bd29"
      }
     },
     "metadata": {},
     "output_type": "display_data"
    }
   ],
   "source": [
    "with open(\"./rename.csv\", 'w') as file:\n",
    "    csvwriter = csv.writer(file)\n",
    "    csvwriter.writerow([\"origin\", \"new\"])\n",
    "    for key, value in tqdm(name_to_index.items(), desc=\"Writing\"):\n",
    "        csvwriter.writerow([key, value])"
   ],
   "metadata": {
    "collapsed": false,
    "ExecuteTime": {
     "start_time": "2023-04-12T11:01:32.172344Z",
     "end_time": "2023-04-12T11:01:32.355442Z"
    }
   }
  },
  {
   "cell_type": "code",
   "execution_count": null,
   "outputs": [],
   "source": [],
   "metadata": {
    "collapsed": false
   }
  }
 ],
 "metadata": {
  "kernelspec": {
   "display_name": "Python 3",
   "language": "python",
   "name": "python3"
  },
  "language_info": {
   "codemirror_mode": {
    "name": "ipython",
    "version": 2
   },
   "file_extension": ".py",
   "mimetype": "text/x-python",
   "name": "python",
   "nbconvert_exporter": "python",
   "pygments_lexer": "ipython2",
   "version": "2.7.6"
  }
 },
 "nbformat": 4,
 "nbformat_minor": 0
}
