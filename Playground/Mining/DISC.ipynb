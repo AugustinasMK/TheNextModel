{
 "cells": [
  {
   "cell_type": "code",
   "execution_count": 1,
   "outputs": [],
   "source": [
    "import augly.image as imaugs\n",
    "import numpy as np\n",
    "import torch\n",
    "from torch import optim\n",
    "from torch.utils.data import DataLoader\n",
    "from torchvision import transforms\n",
    "from tqdm.auto import tqdm\n",
    "from transformers import AutoModel, AutoFeatureExtractor\n",
    "from utils.disc21 import DISC21Definition"
   ],
   "metadata": {
    "collapsed": false,
    "ExecuteTime": {
     "start_time": "2023-04-04T18:22:49.354731Z",
     "end_time": "2023-04-04T18:22:53.488470Z"
    }
   }
  },
  {
   "cell_type": "code",
   "execution_count": 2,
   "outputs": [
    {
     "name": "stderr",
     "output_type": "stream",
     "text": [
      "Some weights of the model checkpoint at google/vit-large-patch16-224 were not used when initializing ViTModel: ['classifier.bias', 'classifier.weight']\n",
      "- This IS expected if you are initializing ViTModel from the checkpoint of a model trained on another task or with another architecture (e.g. initializing a BertForSequenceClassification model from a BertForPreTraining model).\n",
      "- This IS NOT expected if you are initializing ViTModel from the checkpoint of a model that you expect to be exactly identical (initializing a BertForSequenceClassification model from a BertForSequenceClassification model).\n",
      "Some weights of ViTModel were not initialized from the model checkpoint at google/vit-large-patch16-224 and are newly initialized: ['vit.pooler.dense.bias', 'vit.pooler.dense.weight']\n",
      "You should probably TRAIN this model on a down-stream task to be able to use it for predictions and inference.\n"
     ]
    }
   ],
   "source": [
    "model_ckpt = \"google/vit-large-patch16-224\"\n",
    "extractor = AutoFeatureExtractor.from_pretrained(model_ckpt)\n",
    "model = AutoModel.from_pretrained(model_ckpt)"
   ],
   "metadata": {
    "collapsed": false,
    "ExecuteTime": {
     "start_time": "2023-04-04T18:23:10.539630Z",
     "end_time": "2023-04-04T18:23:19.072371Z"
    }
   }
  },
  {
   "cell_type": "code",
   "execution_count": 3,
   "outputs": [],
   "source": [
    "transformation_chain = transforms.Compose(\n",
    "    [\n",
    "        # We first resize the input image to 256x256, and then we take center crop.\n",
    "        transforms.Resize(int((256 / 224) * 224)),\n",
    "        transforms.CenterCrop(224),\n",
    "        transforms.ToTensor(),\n",
    "        transforms.Normalize(mean=extractor.image_mean, std=extractor.image_std),\n",
    "    ]\n",
    ")\n",
    "\n",
    "augmentation_chain = transforms.Compose(\n",
    "    [\n",
    "        imaugs.Brightness(factor=2.0),\n",
    "        imaugs.RandomRotation(),\n",
    "        imaugs.OneOf([\n",
    "            imaugs.RandomAspectRatio(),\n",
    "            imaugs.RandomBlur(),\n",
    "            imaugs.RandomBrightness(),\n",
    "            imaugs.RandomNoise(),\n",
    "            imaugs.RandomPixelization(),\n",
    "        ]),\n",
    "        imaugs.OneOf([\n",
    "            imaugs.OverlayEmoji(),\n",
    "            imaugs.OverlayStripes(),\n",
    "            imaugs.OverlayText(),\n",
    "        ], p=0.5),\n",
    "        # We first resize the input image to 256x256, and then we take center crop.\n",
    "        transforms.Resize(int((256 / 224) * 224)),\n",
    "        transforms.CenterCrop(224),\n",
    "        transforms.ToTensor(),\n",
    "        transforms.Normalize(mean=extractor.image_mean, std=extractor.image_std),\n",
    "    ]\n",
    ")"
   ],
   "metadata": {
    "collapsed": false,
    "ExecuteTime": {
     "start_time": "2023-04-04T18:29:46.331057Z",
     "end_time": "2023-04-04T18:29:46.404120Z"
    }
   }
  },
  {
   "cell_type": "code",
   "execution_count": 4,
   "outputs": [],
   "source": [
    "from torch.utils.data import Dataset\n",
    "import os.path as osp\n",
    "from glob import glob\n",
    "from PIL import Image\n",
    "import random"
   ],
   "metadata": {
    "collapsed": false,
    "ExecuteTime": {
     "start_time": "2023-04-04T18:29:47.124285Z",
     "end_time": "2023-04-04T18:29:47.158080Z"
    }
   }
  },
  {
   "cell_type": "code",
   "execution_count": 9,
   "outputs": [],
   "source": [
    "class DISC21(Dataset):\n",
    "    def __init__(self, df, subset='train', transform=None, augmentations=None):\n",
    "        self.is_train = subset == 'train'\n",
    "        self.is_gallery = subset == 'gallery'\n",
    "        self.transform = transform\n",
    "        self.augmentations = transform if augmentations is None else augmentations\n",
    "\n",
    "        if self.is_train:\n",
    "            self.images = df.train\n",
    "        elif self.is_gallery:\n",
    "            self.images = df.gallery\n",
    "        else:\n",
    "            self.images = df.query\n",
    "\n",
    "    def __len__(self):\n",
    "        return len(self.images)\n",
    "\n",
    "    def __getitem__(self, index):\n",
    "        full_name, name = self.images[index]\n",
    "        anchor_img = Image.open(full_name)\n",
    "\n",
    "        if self.is_train:\n",
    "            positive_img = anchor_img\n",
    "\n",
    "            negative_indexes = [i for i in range(len(self.images)) if i != index]\n",
    "            negative_indexes = random.sample(negative_indexes, 3)\n",
    "            negative_imgs = []\n",
    "            for i in negative_indexes:\n",
    "                negative_full_name, negative_name = self.images[i]\n",
    "                negative_img = Image.open(negative_full_name)\n",
    "                negative_imgs.append(negative_img)\n",
    "\n",
    "            if self.transform:\n",
    "                anchor_img = self.transform(anchor_img)\n",
    "                positive_img = self.augmentations(positive_img)\n",
    "                negative_imgs = [self.augmentations(img) for img in negative_imgs]\n",
    "\n",
    "            return anchor_img, positive_img, negative_imgs, name\n",
    "        else:\n",
    "            if self.transform:\n",
    "                anchor_img = self.transform(anchor_img)\n",
    "            return anchor_img, name"
   ],
   "metadata": {
    "collapsed": false,
    "ExecuteTime": {
     "start_time": "2023-04-04T18:32:07.640239Z",
     "end_time": "2023-04-04T18:32:07.682511Z"
    }
   }
  },
  {
   "cell_type": "code",
   "execution_count": 10,
   "outputs": [
    {
     "name": "stdout",
     "output_type": "stream",
     "text": [
      "DISC21Definition dataset loaded\n",
      "  subset   | # ids | # images\n",
      "  ---------------------------\n",
      "  train    | 100000 |   100000\n",
      "  gallery  | 100000 |   100000\n",
      "  query    |  10000 |    10000\n"
     ]
    }
   ],
   "source": [
    "train_df = DISC21Definition('/media/augustinas/T7/DISC2021/SmallData/images/')\n",
    "train_ds = DISC21(train_df, subset='train', transform=transformation_chain, augmentations=augmentation_chain)"
   ],
   "metadata": {
    "collapsed": false,
    "ExecuteTime": {
     "start_time": "2023-04-04T18:32:08.517566Z",
     "end_time": "2023-04-04T18:32:09.723816Z"
    }
   }
  },
  {
   "cell_type": "code",
   "execution_count": 11,
   "outputs": [],
   "source": [
    "batch_size = 1\n",
    "train_loader = DataLoader(train_ds, batch_size=batch_size, shuffle=True, num_workers=4)"
   ],
   "metadata": {
    "collapsed": false,
    "ExecuteTime": {
     "start_time": "2023-04-04T18:32:10.810539Z",
     "end_time": "2023-04-04T18:32:10.815871Z"
    }
   }
  },
  {
   "cell_type": "code",
   "execution_count": 12,
   "outputs": [],
   "source": [
    "anchor_img, positive_img, negative_imgs, name = next(iter(train_loader))"
   ],
   "metadata": {
    "collapsed": false,
    "ExecuteTime": {
     "start_time": "2023-04-04T18:32:11.783414Z",
     "end_time": "2023-04-04T18:32:12.742221Z"
    }
   }
  },
  {
   "cell_type": "code",
   "execution_count": 57,
   "outputs": [],
   "source": [
    "from pytorch_metric_learning import distances, losses, miners, reducers, testers\n",
    "from pytorch_metric_learning.utils.accuracy_calculator import AccuracyCalculator"
   ],
   "metadata": {
    "collapsed": false,
    "ExecuteTime": {
     "start_time": "2023-04-04T18:54:18.190015Z",
     "end_time": "2023-04-04T18:54:18.192833Z"
    }
   }
  },
  {
   "cell_type": "code",
   "execution_count": 83,
   "outputs": [],
   "source": [
    "mining_func = miners.TripletMarginMiner(\n",
    "    margin=0.2, type_of_triplets=\"semihard\"\n",
    ")"
   ],
   "metadata": {
    "collapsed": false,
    "ExecuteTime": {
     "start_time": "2023-04-04T18:59:07.429989Z",
     "end_time": "2023-04-04T18:59:07.433921Z"
    }
   }
  },
  {
   "cell_type": "code",
   "execution_count": 84,
   "outputs": [],
   "source": [
    "anchor_out = model(anchor_img).last_hidden_state\n",
    "positive_out = model(positive_img).last_hidden_state"
   ],
   "metadata": {
    "collapsed": false,
    "ExecuteTime": {
     "start_time": "2023-04-04T18:59:12.194425Z",
     "end_time": "2023-04-04T18:59:13.617857Z"
    }
   }
  },
  {
   "cell_type": "code",
   "execution_count": 61,
   "outputs": [],
   "source": [
    "negative_out = [model(negative_img).last_hidden_state for  negative_img in negative_imgs][0]"
   ],
   "metadata": {
    "collapsed": false,
    "ExecuteTime": {
     "start_time": "2023-04-04T18:54:35.738766Z",
     "end_time": "2023-04-04T18:54:37.300445Z"
    }
   }
  },
  {
   "cell_type": "code",
   "execution_count": 62,
   "outputs": [
    {
     "name": "stdout",
     "output_type": "stream",
     "text": [
      "torch.Size([1, 197, 1024])\n"
     ]
    }
   ],
   "source": [
    "print(anchor_out.shape)"
   ],
   "metadata": {
    "collapsed": false,
    "ExecuteTime": {
     "start_time": "2023-04-04T18:54:38.567936Z",
     "end_time": "2023-04-04T18:54:38.572835Z"
    }
   }
  },
  {
   "cell_type": "code",
   "execution_count": 63,
   "outputs": [
    {
     "name": "stdout",
     "output_type": "stream",
     "text": [
      "torch.Size([1, 201728])\n"
     ]
    }
   ],
   "source": [
    "af = torch.flatten(anchor_out, start_dim=1)\n",
    "print(af.shape)"
   ],
   "metadata": {
    "collapsed": false,
    "ExecuteTime": {
     "start_time": "2023-04-04T18:54:39.912609Z",
     "end_time": "2023-04-04T18:54:39.915540Z"
    }
   }
  },
  {
   "cell_type": "code",
   "execution_count": 64,
   "outputs": [
    {
     "name": "stdout",
     "output_type": "stream",
     "text": [
      "torch.Size([1, 197, 1024])\n"
     ]
    }
   ],
   "source": [
    "print(positive_out.shape)"
   ],
   "metadata": {
    "collapsed": false,
    "ExecuteTime": {
     "start_time": "2023-04-04T18:54:41.242200Z",
     "end_time": "2023-04-04T18:54:41.249483Z"
    }
   }
  },
  {
   "cell_type": "code",
   "execution_count": 65,
   "outputs": [
    {
     "name": "stdout",
     "output_type": "stream",
     "text": [
      "torch.Size([1, 201728])\n"
     ]
    }
   ],
   "source": [
    "pf = torch.flatten(positive_out, start_dim=1)\n",
    "print(pf.shape)"
   ],
   "metadata": {
    "collapsed": false,
    "ExecuteTime": {
     "start_time": "2023-04-04T18:54:42.625725Z",
     "end_time": "2023-04-04T18:54:42.629595Z"
    }
   }
  },
  {
   "cell_type": "code",
   "execution_count": 66,
   "outputs": [
    {
     "name": "stdout",
     "output_type": "stream",
     "text": [
      "torch.Size([3, 197, 1024])\n"
     ]
    }
   ],
   "source": [
    "print(negative_out.shape)"
   ],
   "metadata": {
    "collapsed": false,
    "ExecuteTime": {
     "start_time": "2023-04-04T18:54:43.799269Z",
     "end_time": "2023-04-04T18:54:43.801594Z"
    }
   }
  },
  {
   "cell_type": "code",
   "execution_count": 67,
   "outputs": [
    {
     "name": "stdout",
     "output_type": "stream",
     "text": [
      "torch.Size([3, 201728])\n"
     ]
    }
   ],
   "source": [
    "nf = torch.flatten(negative_out, start_dim=1)\n",
    "print(nf.shape)"
   ],
   "metadata": {
    "collapsed": false,
    "ExecuteTime": {
     "start_time": "2023-04-04T18:54:50.452246Z",
     "end_time": "2023-04-04T18:54:50.495590Z"
    }
   }
  },
  {
   "cell_type": "code",
   "execution_count": 68,
   "outputs": [],
   "source": [
    "embeddings = torch.cat([af, pf, nf])"
   ],
   "metadata": {
    "collapsed": false,
    "ExecuteTime": {
     "start_time": "2023-04-04T18:54:53.470560Z",
     "end_time": "2023-04-04T18:54:53.474172Z"
    }
   }
  },
  {
   "cell_type": "code",
   "execution_count": 69,
   "outputs": [
    {
     "name": "stdout",
     "output_type": "stream",
     "text": [
      "torch.Size([5, 201728])\n"
     ]
    }
   ],
   "source": [
    "print(embeddings.shape)"
   ],
   "metadata": {
    "collapsed": false,
    "ExecuteTime": {
     "start_time": "2023-04-04T18:55:00.224467Z",
     "end_time": "2023-04-04T18:55:00.231911Z"
    }
   }
  },
  {
   "cell_type": "code",
   "execution_count": 79,
   "outputs": [],
   "source": [
    "labels = torch.cat([torch.tensor([0, 0]), torch.tensor([i + 1 for i in range(negative_out.shape[0])])])"
   ],
   "metadata": {
    "collapsed": false,
    "ExecuteTime": {
     "start_time": "2023-04-04T18:58:45.717039Z",
     "end_time": "2023-04-04T18:58:45.723156Z"
    }
   }
  },
  {
   "cell_type": "code",
   "execution_count": 80,
   "outputs": [
    {
     "name": "stdout",
     "output_type": "stream",
     "text": [
      "tensor([0, 0, 1, 2, 3])\n"
     ]
    }
   ],
   "source": [
    "print(labels)"
   ],
   "metadata": {
    "collapsed": false,
    "ExecuteTime": {
     "start_time": "2023-04-04T18:58:46.474137Z",
     "end_time": "2023-04-04T18:58:46.479043Z"
    }
   }
  },
  {
   "cell_type": "code",
   "execution_count": 81,
   "outputs": [],
   "source": [
    "indices_tuple = mining_func(embeddings, labels)"
   ],
   "metadata": {
    "collapsed": false,
    "ExecuteTime": {
     "start_time": "2023-04-04T18:58:49.349696Z",
     "end_time": "2023-04-04T18:58:49.394660Z"
    }
   }
  },
  {
   "cell_type": "code",
   "execution_count": 82,
   "outputs": [
    {
     "name": "stdout",
     "output_type": "stream",
     "text": [
      "(tensor([], dtype=torch.int64), tensor([], dtype=torch.int64), tensor([], dtype=torch.int64))\n"
     ]
    }
   ],
   "source": [
    "print(indices_tuple)"
   ],
   "metadata": {
    "collapsed": false,
    "ExecuteTime": {
     "start_time": "2023-04-04T18:58:50.402091Z",
     "end_time": "2023-04-04T18:58:50.405719Z"
    }
   }
  },
  {
   "cell_type": "code",
   "execution_count": null,
   "outputs": [],
   "source": [],
   "metadata": {
    "collapsed": false
   }
  }
 ],
 "metadata": {
  "kernelspec": {
   "display_name": "Python 3",
   "language": "python",
   "name": "python3"
  },
  "language_info": {
   "codemirror_mode": {
    "name": "ipython",
    "version": 2
   },
   "file_extension": ".py",
   "mimetype": "text/x-python",
   "name": "python",
   "nbconvert_exporter": "python",
   "pygments_lexer": "ipython2",
   "version": "2.7.6"
  }
 },
 "nbformat": 4,
 "nbformat_minor": 0
}
