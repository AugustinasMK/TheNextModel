{
 "cells": [
  {
   "cell_type": "code",
   "execution_count": 8,
   "metadata": {
    "collapsed": true,
    "ExecuteTime": {
     "start_time": "2023-04-13T23:14:41.955443Z",
     "end_time": "2023-04-13T23:14:42.017044Z"
    }
   },
   "outputs": [],
   "source": [
    "from utils.ggem import GGeM\n",
    "from transformers import AutoModel, AutoImageProcessor\n",
    "import torchvision.transforms\n",
    "import PIL.Image"
   ]
  },
  {
   "cell_type": "markdown",
   "source": [
    "## The number of groups G is a pre-defined hyper-parameter, where we suggest using the number of heads in ViT (i.e., 6 for ViT-S, 12 for ViT-B, and 16 for ViT-L) as G."
   ],
   "metadata": {
    "collapsed": false
   }
  },
  {
   "cell_type": "markdown",
   "source": [
    "## https://theaisummer.com/static/156f6be8c232bb0b03d4793b2be2fbad/57dc1/vit-models-description-table.png\n"
   ],
   "metadata": {
    "collapsed": false
   }
  },
  {
   "cell_type": "code",
   "execution_count": 9,
   "outputs": [],
   "source": [
    "ggem = GGeM(groups=16, eps=1e-6)"
   ],
   "metadata": {
    "collapsed": false,
    "ExecuteTime": {
     "start_time": "2023-04-13T23:14:44.799740Z",
     "end_time": "2023-04-13T23:14:44.812738Z"
    }
   }
  },
  {
   "cell_type": "code",
   "execution_count": 10,
   "outputs": [
    {
     "name": "stderr",
     "output_type": "stream",
     "text": [
      "Some weights of the model checkpoint at google/vit-large-patch16-224 were not used when initializing ViTModel: ['classifier.bias', 'classifier.weight']\n",
      "- This IS expected if you are initializing ViTModel from the checkpoint of a model trained on another task or with another architecture (e.g. initializing a BertForSequenceClassification model from a BertForPreTraining model).\n",
      "- This IS NOT expected if you are initializing ViTModel from the checkpoint of a model that you expect to be exactly identical (initializing a BertForSequenceClassification model from a BertForSequenceClassification model).\n"
     ]
    }
   ],
   "source": [
    "model_ckpt = \"google/vit-large-patch16-224\"\n",
    "processor = AutoImageProcessor.from_pretrained(model_ckpt)\n",
    "model = AutoModel.from_pretrained(model_ckpt)"
   ],
   "metadata": {
    "collapsed": false,
    "ExecuteTime": {
     "start_time": "2023-04-13T23:14:45.297211Z",
     "end_time": "2023-04-13T23:14:48.904148Z"
    }
   }
  },
  {
   "cell_type": "code",
   "execution_count": 11,
   "outputs": [],
   "source": [
    "transformation_chain = torchvision.transforms.Compose(\n",
    "    [\n",
    "        # We first resize the input image to 256x256, and then we take center crop.\n",
    "        torchvision.transforms.Resize(int((256 / 224) * processor.size[\"height\"])),\n",
    "        torchvision.transforms.CenterCrop(processor.size[\"height\"]),\n",
    "        torchvision.transforms.ToTensor(),\n",
    "        torchvision.transforms.Normalize(mean=processor.image_mean, std=processor.image_std),\n",
    "    ]\n",
    ")"
   ],
   "metadata": {
    "collapsed": false,
    "ExecuteTime": {
     "start_time": "2023-04-13T23:14:49.722244Z",
     "end_time": "2023-04-13T23:14:49.725812Z"
    }
   }
  },
  {
   "cell_type": "code",
   "execution_count": 13,
   "outputs": [],
   "source": [
    "image = PIL.Image.open(\"/home/augustinas/google-landmark/train/0/0/0/000ab4c3e0183bfc.jpg\")"
   ],
   "metadata": {
    "collapsed": false,
    "ExecuteTime": {
     "start_time": "2023-04-13T23:15:57.620270Z",
     "end_time": "2023-04-13T23:15:57.666359Z"
    }
   }
  },
  {
   "cell_type": "code",
   "execution_count": 14,
   "outputs": [],
   "source": [
    "img = transformation_chain(image)"
   ],
   "metadata": {
    "collapsed": false,
    "ExecuteTime": {
     "start_time": "2023-04-13T23:16:06.863296Z",
     "end_time": "2023-04-13T23:16:07.021637Z"
    }
   }
  },
  {
   "cell_type": "code",
   "execution_count": 18,
   "outputs": [],
   "source": [
    "img = img.unsqueeze(0)"
   ],
   "metadata": {
    "collapsed": false,
    "ExecuteTime": {
     "start_time": "2023-04-13T23:17:05.915010Z",
     "end_time": "2023-04-13T23:17:05.986320Z"
    }
   }
  },
  {
   "cell_type": "code",
   "execution_count": 20,
   "outputs": [],
   "source": [
    "out = model(img)"
   ],
   "metadata": {
    "collapsed": false,
    "ExecuteTime": {
     "start_time": "2023-04-13T23:17:19.918102Z",
     "end_time": "2023-04-13T23:17:21.574649Z"
    }
   }
  },
  {
   "cell_type": "code",
   "execution_count": 21,
   "outputs": [
    {
     "data": {
      "text/plain": "BaseModelOutputWithPooling(last_hidden_state=tensor([[[ 0.9761,  0.6478, -0.0977,  ..., -0.3124, -0.3076,  1.7004],\n         [ 0.6479, -0.5387,  0.8248,  ...,  1.9311, -0.4832,  0.3432],\n         [ 0.0613,  0.6355,  1.0129,  ...,  0.7574,  0.2355,  0.1633],\n         ...,\n         [ 0.0604,  0.9856, -1.5708,  ..., -0.8957, -0.0799,  1.5861],\n         [-0.3113,  1.2828, -1.1609,  ..., -1.0621,  0.1105,  1.3995],\n         [-0.0850,  1.1988, -1.2745,  ..., -1.6373, -0.1932,  1.5015]]],\n       grad_fn=<NativeLayerNormBackward0>), pooler_output=tensor([[ 0.2543, -0.1908,  0.1511,  ..., -0.3221, -0.4381,  0.1200]],\n       grad_fn=<TanhBackward0>), hidden_states=None, attentions=None)"
     },
     "execution_count": 21,
     "metadata": {},
     "output_type": "execute_result"
    }
   ],
   "source": [
    "out"
   ],
   "metadata": {
    "collapsed": false,
    "ExecuteTime": {
     "start_time": "2023-04-13T23:17:27.310583Z",
     "end_time": "2023-04-13T23:17:27.362034Z"
    }
   }
  },
  {
   "cell_type": "code",
   "execution_count": 22,
   "outputs": [],
   "source": [
    "out = out['pooler_output']"
   ],
   "metadata": {
    "collapsed": false,
    "ExecuteTime": {
     "start_time": "2023-04-13T23:18:27.521233Z",
     "end_time": "2023-04-13T23:18:27.580732Z"
    }
   }
  },
  {
   "cell_type": "code",
   "execution_count": 23,
   "outputs": [
    {
     "data": {
      "text/plain": "torch.Size([1, 1024])"
     },
     "execution_count": 23,
     "metadata": {},
     "output_type": "execute_result"
    }
   ],
   "source": [
    "out.shape"
   ],
   "metadata": {
    "collapsed": false,
    "ExecuteTime": {
     "start_time": "2023-04-13T23:18:33.737129Z",
     "end_time": "2023-04-13T23:18:33.776388Z"
    }
   }
  },
  {
   "cell_type": "code",
   "execution_count": 24,
   "outputs": [
    {
     "data": {
      "text/plain": "ViTPooler(\n  (dense): Linear(in_features=1024, out_features=1024, bias=True)\n  (activation): Tanh()\n)"
     },
     "execution_count": 24,
     "metadata": {},
     "output_type": "execute_result"
    }
   ],
   "source": [
    "model.pooler"
   ],
   "metadata": {
    "collapsed": false,
    "ExecuteTime": {
     "start_time": "2023-04-13T23:19:01.635758Z",
     "end_time": "2023-04-13T23:19:01.683792Z"
    }
   }
  },
  {
   "cell_type": "code",
   "execution_count": 25,
   "outputs": [],
   "source": [
    "model.pooler = ggem"
   ],
   "metadata": {
    "collapsed": false,
    "ExecuteTime": {
     "start_time": "2023-04-13T23:19:10.999290Z",
     "end_time": "2023-04-13T23:19:11.021533Z"
    }
   }
  },
  {
   "cell_type": "code",
   "execution_count": 26,
   "outputs": [
    {
     "data": {
      "text/plain": "GGeM()"
     },
     "execution_count": 26,
     "metadata": {},
     "output_type": "execute_result"
    }
   ],
   "source": [
    "model.pooler"
   ],
   "metadata": {
    "collapsed": false,
    "ExecuteTime": {
     "start_time": "2023-04-13T23:19:23.204773Z",
     "end_time": "2023-04-13T23:19:23.234860Z"
    }
   }
  },
  {
   "cell_type": "code",
   "execution_count": 27,
   "outputs": [],
   "source": [
    "out = model(img)"
   ],
   "metadata": {
    "collapsed": false,
    "ExecuteTime": {
     "start_time": "2023-04-13T23:19:26.486575Z",
     "end_time": "2023-04-13T23:19:27.955471Z"
    }
   }
  },
  {
   "cell_type": "code",
   "execution_count": 28,
   "outputs": [
    {
     "data": {
      "text/plain": "BaseModelOutputWithPooling(last_hidden_state=tensor([[[ 0.9761,  0.6478, -0.0977,  ..., -0.3124, -0.3076,  1.7004],\n         [ 0.6479, -0.5387,  0.8248,  ...,  1.9311, -0.4832,  0.3432],\n         [ 0.0613,  0.6355,  1.0129,  ...,  0.7574,  0.2355,  0.1633],\n         ...,\n         [ 0.0604,  0.9856, -1.5708,  ..., -0.8957, -0.0799,  1.5861],\n         [-0.3113,  1.2828, -1.1609,  ..., -1.0621,  0.1105,  1.3995],\n         [-0.0850,  1.1988, -1.2745,  ..., -1.6373, -0.1932,  1.5015]]],\n       grad_fn=<NativeLayerNormBackward0>), pooler_output=tensor([[1.0985, 1.3772, 1.3914,  ..., 1.7593, 0.9243, 1.8296]],\n       grad_fn=<ReshapeAliasBackward0>), hidden_states=None, attentions=None)"
     },
     "execution_count": 28,
     "metadata": {},
     "output_type": "execute_result"
    }
   ],
   "source": [
    "out"
   ],
   "metadata": {
    "collapsed": false,
    "ExecuteTime": {
     "start_time": "2023-04-13T23:19:36.237768Z",
     "end_time": "2023-04-13T23:19:36.297114Z"
    }
   }
  },
  {
   "cell_type": "code",
   "execution_count": 30,
   "outputs": [],
   "source": [
    "out = out['pooler_output']"
   ],
   "metadata": {
    "collapsed": false,
    "ExecuteTime": {
     "start_time": "2023-04-13T23:20:28.396396Z",
     "end_time": "2023-04-13T23:20:28.454822Z"
    }
   }
  },
  {
   "cell_type": "code",
   "execution_count": 31,
   "outputs": [],
   "source": [
    "out = out.shape"
   ],
   "metadata": {
    "collapsed": false,
    "ExecuteTime": {
     "start_time": "2023-04-13T23:20:39.621353Z",
     "end_time": "2023-04-13T23:20:39.667742Z"
    }
   }
  },
  {
   "cell_type": "code",
   "execution_count": 32,
   "outputs": [
    {
     "data": {
      "text/plain": "torch.Size([1, 1024])"
     },
     "execution_count": 32,
     "metadata": {},
     "output_type": "execute_result"
    }
   ],
   "source": [
    "out"
   ],
   "metadata": {
    "collapsed": false,
    "ExecuteTime": {
     "start_time": "2023-04-13T23:20:45.203788Z",
     "end_time": "2023-04-13T23:20:45.255247Z"
    }
   }
  },
  {
   "cell_type": "code",
   "execution_count": null,
   "outputs": [],
   "source": [],
   "metadata": {
    "collapsed": false
   }
  }
 ],
 "metadata": {
  "kernelspec": {
   "display_name": "Python 3",
   "language": "python",
   "name": "python3"
  },
  "language_info": {
   "codemirror_mode": {
    "name": "ipython",
    "version": 2
   },
   "file_extension": ".py",
   "mimetype": "text/x-python",
   "name": "python",
   "nbconvert_exporter": "python",
   "pygments_lexer": "ipython2",
   "version": "2.7.6"
  }
 },
 "nbformat": 4,
 "nbformat_minor": 0
}
